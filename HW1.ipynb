{
  "nbformat": 4,
  "nbformat_minor": 0,
  "metadata": {
    "colab": {
      "name": "HW1.ipynb",
      "provenance": [],
      "collapsed_sections": [],
      "toc_visible": true,
      "include_colab_link": true
    },
    "kernelspec": {
      "name": "python3",
      "display_name": "Python 3"
    }
  },
  "cells": [
    {
      "cell_type": "markdown",
      "metadata": {
        "id": "view-in-github",
        "colab_type": "text"
      },
      "source": [
        "<a href=\"https://colab.research.google.com/github/fizyamat/ML/blob/main/HW1.ipynb\" target=\"_parent\"><img src=\"https://colab.research.google.com/assets/colab-badge.svg\" alt=\"Open In Colab\"/></a>"
      ]
    },
    {
      "cell_type": "markdown",
      "metadata": {
        "id": "tbdH5h40TGTr"
      },
      "source": [
        "#Часть I: О теореме Байеса"
      ]
    },
    {
      "cell_type": "markdown",
      "metadata": {
        "id": "qclr204bWWdE"
      },
      "source": [
        "###Описание"
      ]
    },
    {
      "cell_type": "markdown",
      "metadata": {
        "id": "qmbK2hJPWe4c"
      },
      "source": [
        "Введем обозначения:\r\n",
        "\r\n",
        "g - виновен\r\n",
        "\r\n",
        "b - редкая группа крови\r\n",
        "\r\n",
        "k - это количество живущих в городе людей\r\n",
        "\r\n"
      ]
    },
    {
      "cell_type": "markdown",
      "metadata": {
        "id": "b7l-3o9yVR4O"
      },
      "source": [
        "###1"
      ]
    },
    {
      "cell_type": "markdown",
      "metadata": {
        "id": "dAC9w5RtTIrv"
      },
      "source": [
        "Из утверждения, что у убийцы редкая группа крови, которую имеет всего $1\\%$ населения следует, что если подсудимый не виновен, то вероятность совпадения равна $1\\%$:\r\n",
        "\r\n",
        "\\begin{equation}\r\n",
        "\r\n",
        "p(b|\\bar{g}) = 1\\% = 0.01\r\n",
        "\r\n",
        "\\end{equation}\r\n",
        "\r\n",
        "В первой части своего утверждения прокурор об этом и говорит, но из этого не следует что виновность подсудимого $99\\%$:\r\n",
        "\r\n",
        "\\begin{equation}\r\n",
        "\r\n",
        "p(\\bar{g}|b) =  p(b|\\bar{g})   \\tag{вывод прокурора} \r\n",
        "\r\n",
        "\\end{equation}\r\n",
        "\r\n",
        "Данное утверждение не верно, об это говорит теорма Байеса:\r\n",
        "\r\n",
        "\\begin{equation}\r\n",
        "\r\n",
        "p(\\bar{g}|b) =  \\frac{p(b|\\bar{g}) * p(\\bar{g})}{p(b)} = \\frac{p(b|\\bar{g}) * p(\\bar{g})}{p(b|g)p(g) + p(b|\\bar{g})p(\\bar{g})} = \r\n",
        "\r\n",
        "\\frac{0.01*(1 - \\frac{1}{k})} {1*\\frac{1}{k} + 0.01*(1 - \\frac{1}{k})} \\approx 0.9999 = 99,99\\% \\text{ при  k = }\\ 10^{6}\r\n",
        "\r\n",
        "\\end{equation}\r\n",
        "\r\n",
        "как видно из решения:\r\n",
        "\r\n",
        "\\begin{equation}\r\n",
        "\r\n",
        "p(\\bar{g}|b) \\neq p(b|\\bar{g})\r\n",
        "\r\n",
        "\\end{equation}\r\n",
        "\r\n",
        "Следовательно вероятность, того что подсудимый виновен при условии, что кровь совпала равна:\r\n",
        "\r\n",
        "\\begin{equation}\r\n",
        "\r\n",
        "p(g|b) = 1 - p(\\bar{g}|b) = 1 - 0.9999 = 0.0001 = 0.01\\%\r\n",
        "\r\n",
        "\\end{equation}\r\n",
        "\r\n",
        "что сильно отличается от утверждения прокурора\r\n"
      ]
    },
    {
      "cell_type": "markdown",
      "metadata": {
        "id": "w1sNqPEyVtiw"
      },
      "source": [
        "###2\r\n"
      ]
    },
    {
      "cell_type": "markdown",
      "metadata": {
        "id": "3GMS3vKWWOWT"
      },
      "source": [
        "Утверждение адвоката состоит в том, что в городе проживает 1 000 000 человек, из них 10 000 имеют редкую группу крови, следовательно вероятность о которой говорит адвокат:\r\n",
        "\r\n",
        "\\begin{equation}\r\n",
        "    \r\n",
        "    \\frac{p(g|b)}{p(\\bar{g}|b)} = \r\n",
        "    \r\n",
        "    \\frac{p(b|g)*p(g)}{p(b|\\bar{g})*p(\\bar{g})} =  \r\n",
        "    \r\n",
        "    \\frac{1 * 10^{-6}}{0.01 * (1 - 10^{-6})}\r\n",
        "    \\approx\r\n",
        "\r\n",
        "    \\frac{1}{10000} = 0.0001= 0.01\\%\r\n",
        "    \r\n",
        "\\end{equation}\r\n",
        "\r\n",
        "А должен был оценить $p(g|b)$\r\n"
      ]
    },
    {
      "cell_type": "markdown",
      "metadata": {
        "id": "B-CAE-08VxWT"
      },
      "source": [
        "###3"
      ]
    },
    {
      "cell_type": "code",
      "metadata": {
        "id": "_d1wvCb7V_VK"
      },
      "source": [
        "import matplotlib.pyplot as plt"
      ],
      "execution_count": 1,
      "outputs": []
    },
    {
      "cell_type": "code",
      "metadata": {
        "colab": {
          "base_uri": "https://localhost:8080/",
          "height": 295
        },
        "id": "e7BLZx7-ra7c",
        "outputId": "fc900294-aa85-4eb6-d490-1f90e3d563f1"
      },
      "source": [
        "def true_positive_prob(false_positive, false_negative):  \r\n",
        "    return 1 / (1 + 99 * (false_positive / (1 - false_negative)))\r\n",
        "\r\n",
        "errors = [x / 10000 for x in range(1, 500)]\r\n",
        "positive_probs = [true_positive_prob(error, .05) for error in errors]\r\n",
        "negative_probs = [true_positive_prob(.05, error) for error in errors]\r\n",
        "\r\n",
        "plt.scatter(errors, positive_probs, s = 1, label='false positive')\r\n",
        "plt.scatter(errors, negative_probs, s = 1, label='false negative')\r\n",
        "\r\n",
        "plt.xlabel('ошибка')\r\n",
        "plt.ylabel('вероятность болезни')\r\n",
        "plt.title('Вероятность болезни при положительном тесте')\r\n",
        "plt.legend()\r\n",
        "plt.show()\r\n"
      ],
      "execution_count": 2,
      "outputs": [
        {
          "output_type": "display_data",
          "data": {
            "image/png": "[encoded data removed]",
            "text/plain": [
              "<Figure size 432x288 with 1 Axes>"
            ]
          },
          "metadata": {
            "tags": [],
            "needs_background": "light"
          }
        }
      ]
    },
    {
      "cell_type": "code",
      "metadata": {
        "colab": {
          "base_uri": "https://localhost:8080/",
          "height": 295
        },
        "id": "tY7FOKoFvJ_a",
        "outputId": "065992bb-5204-458b-ccb1-a2d8e61efaaf"
      },
      "source": [
        "def false_positive_prob(false_positive, false_negative):  \r\n",
        "    return 1 / (1 + 99 * (1 - false_positive) / (false_negative))\r\n",
        "\r\n",
        "errors = [x / 10000 for x in range(1, 500)]\r\n",
        "positive_probs = [false_positive_prob(error, .05) for error in errors]\r\n",
        "negative_probs = [false_positive_prob(.05, error) for error in errors]\r\n",
        "\r\n",
        "plt.scatter(errors, positive_probs, s = 1, label='false positive')\r\n",
        "plt.scatter(errors, negative_probs, s = 1, label='false negative')\r\n",
        "\r\n",
        "plt.xlabel('ошибка')\r\n",
        "plt.ylabel('вероятность болезни')\r\n",
        "plt.title('Вероятность болезни при отрицательном тесте')\r\n",
        "plt.legend()\r\n",
        "plt.show()"
      ],
      "execution_count": 3,
      "outputs": [
        {
          "output_type": "display_data",
          "data": {
            "image/png": "[encoded data removed]",
            "text/plain": [
              "<Figure size 432x288 with 1 Axes>"
            ]
          },
          "metadata": {
            "tags": [],
            "needs_background": "light"
          }
        }
      ]
    },
    {
      "cell_type": "markdown",
      "metadata": {
        "id": "CCqNOZGKWHwX"
      },
      "source": [
        "На графике \"Вероятность болезни при положительном тесте\" видно, точность определения болезни сильно возврастает только при уменьшении ошибки \"false positive\".\r\n",
        "\r\n",
        "На графике \"Вероятность болезни при отрицательном тесте\" не заметно сильного увеличения точноси при изменнении как \"false positive\", так и \"false negative\" ошибок. \r\n",
        "\r\n",
        "Исходя из данных обоих графиков можно сделать вывод, что имеет смысл уменьшать ошибку \"false positive\". "
      ]
    },
    {
      "cell_type": "markdown",
      "metadata": {
        "id": "qpLkVco7VFT8"
      },
      "source": [
        "# Часть II: О линейной регрессии"
      ]
    },
    {
      "cell_type": "code",
      "metadata": {
        "colab": {
          "base_uri": "https://localhost:8080/"
        },
        "id": "ibWtEYJPQmy4",
        "outputId": "a32a2ee0-f4f9-40e0-d566-1eede9d605fd"
      },
      "source": [
        "!pip install scikit-learn"
      ],
      "execution_count": 4,
      "outputs": [
        {
          "output_type": "stream",
          "text": [
            "Requirement already satisfied: scikit-learn in /usr/local/lib/python3.7/dist-packages (0.22.2.post1)\n",
            "Requirement already satisfied: joblib>=0.11 in /usr/local/lib/python3.7/dist-packages (from scikit-learn) (1.0.1)\n",
            "Requirement already satisfied: scipy>=0.17.0 in /usr/local/lib/python3.7/dist-packages (from scikit-learn) (1.4.1)\n",
            "Requirement already satisfied: numpy>=1.11.0 in /usr/local/lib/python3.7/dist-packages (from scikit-learn) (1.19.5)\n"
          ],
          "name": "stdout"
        }
      ]
    },
    {
      "cell_type": "code",
      "metadata": {
        "id": "ojUoQudGFO8B"
      },
      "source": [
        "import pandas as pd\r\n",
        "import matplotlib.pyplot as plt\r\n",
        "import numpy as np\r\n",
        "from sklearn.linear_model import LinearRegression"
      ],
      "execution_count": 5,
      "outputs": []
    },
    {
      "cell_type": "code",
      "metadata": {
        "id": "4XwlP3tUFSqE"
      },
      "source": [
        "covid_data = pd.read_csv('https://covid.ourworldindata.org/data/owid-covid-data.csv')\r\n",
        "covid_data = covid_data.loc[covid_data['location'] == 'Russia']\r\n",
        "covid_data = covid_data.loc[covid_data['date'] > '2020-03-03']\r\n",
        "covid_data['new_cases'].replace(.0, 1, inplace=True)\r\n",
        "covid_data.sort_values(by='date', inplace=True)\r\n",
        "covid_data['Id'] = np.arange(1, 1 + len(covid_data))"
      ],
      "execution_count": 6,
      "outputs": []
    },
    {
      "cell_type": "code",
      "metadata": {
        "colab": {
          "base_uri": "https://localhost:8080/",
          "height": 309
        },
        "id": "S489qG1cJdOA",
        "outputId": "b4a91e19-0e98-4f79-9f86-4b022c603b28"
      },
      "source": [
        "covid_data.head()"
      ],
      "execution_count": 7,
      "outputs": [
        {
          "output_type": "execute_result",
          "data": {
            "text/html": [
              "<div>\n",
              "<style scoped>\n",
              "    .dataframe tbody tr th:only-of-type {\n",
              "        vertical-align: middle;\n",
              "    }\n",
              "\n",
              "    .dataframe tbody tr th {\n",
              "        vertical-align: top;\n",
              "    }\n",
              "\n",
              "    .dataframe thead th {\n",
              "        text-align: right;\n",
              "    }\n",
              "</style>\n",
              "<table border=\"1\" class=\"dataframe\">\n",
              "  <thead>\n",
              "    <tr style=\"text-align: right;\">\n",
              "      <th></th>\n",
              "      <th>iso_code</th>\n",
              "      <th>continent</th>\n",
              "      <th>location</th>\n",
              "      <th>date</th>\n",
              "      <th>total_cases</th>\n",
              "      <th>new_cases</th>\n",
              "      <th>new_cases_smoothed</th>\n",
              "      <th>total_deaths</th>\n",
              "      <th>new_deaths</th>\n",
              "      <th>new_deaths_smoothed</th>\n",
              "      <th>total_cases_per_million</th>\n",
              "      <th>new_cases_per_million</th>\n",
              "      <th>new_cases_smoothed_per_million</th>\n",
              "      <th>total_deaths_per_million</th>\n",
              "      <th>new_deaths_per_million</th>\n",
              "      <th>new_deaths_smoothed_per_million</th>\n",
              "      <th>reproduction_rate</th>\n",
              "      <th>icu_patients</th>\n",
              "      <th>icu_patients_per_million</th>\n",
              "      <th>hosp_patients</th>\n",
              "      <th>hosp_patients_per_million</th>\n",
              "      <th>weekly_icu_admissions</th>\n",
              "      <th>weekly_icu_admissions_per_million</th>\n",
              "      <th>weekly_hosp_admissions</th>\n",
              "      <th>weekly_hosp_admissions_per_million</th>\n",
              "      <th>new_tests</th>\n",
              "      <th>total_tests</th>\n",
              "      <th>total_tests_per_thousand</th>\n",
              "      <th>new_tests_per_thousand</th>\n",
              "      <th>new_tests_smoothed</th>\n",
              "      <th>new_tests_smoothed_per_thousand</th>\n",
              "      <th>positive_rate</th>\n",
              "      <th>tests_per_case</th>\n",
              "      <th>tests_units</th>\n",
              "      <th>total_vaccinations</th>\n",
              "      <th>people_vaccinated</th>\n",
              "      <th>people_fully_vaccinated</th>\n",
              "      <th>new_vaccinations</th>\n",
              "      <th>new_vaccinations_smoothed</th>\n",
              "      <th>total_vaccinations_per_hundred</th>\n",
              "      <th>people_vaccinated_per_hundred</th>\n",
              "      <th>people_fully_vaccinated_per_hundred</th>\n",
              "      <th>new_vaccinations_smoothed_per_million</th>\n",
              "      <th>stringency_index</th>\n",
              "      <th>population</th>\n",
              "      <th>population_density</th>\n",
              "      <th>median_age</th>\n",
              "      <th>aged_65_older</th>\n",
              "      <th>aged_70_older</th>\n",
              "      <th>gdp_per_capita</th>\n",
              "      <th>extreme_poverty</th>\n",
              "      <th>cardiovasc_death_rate</th>\n",
              "      <th>diabetes_prevalence</th>\n",
              "      <th>female_smokers</th>\n",
              "      <th>male_smokers</th>\n",
              "      <th>handwashing_facilities</th>\n",
              "      <th>hospital_beds_per_thousand</th>\n",
              "      <th>life_expectancy</th>\n",
              "      <th>human_development_index</th>\n",
              "      <th>Id</th>\n",
              "    </tr>\n",
              "  </thead>\n",
              "  <tbody>\n",
              "    <tr>\n",
              "      <th>52923</th>\n",
              "      <td>RUS</td>\n",
              "      <td>Europe</td>\n",
              "      <td>Russia</td>\n",
              "      <td>2020-03-04</td>\n",
              "      <td>3.0</td>\n",
              "      <td>1.0</td>\n",
              "      <td>0.143</td>\n",
              "      <td>NaN</td>\n",
              "      <td>NaN</td>\n",
              "      <td>0.0</td>\n",
              "      <td>0.021</td>\n",
              "      <td>0.000</td>\n",
              "      <td>0.001</td>\n",
              "      <td>NaN</td>\n",
              "      <td>NaN</td>\n",
              "      <td>0.0</td>\n",
              "      <td>NaN</td>\n",
              "      <td>NaN</td>\n",
              "      <td>NaN</td>\n",
              "      <td>NaN</td>\n",
              "      <td>NaN</td>\n",
              "      <td>NaN</td>\n",
              "      <td>NaN</td>\n",
              "      <td>NaN</td>\n",
              "      <td>NaN</td>\n",
              "      <td>NaN</td>\n",
              "      <td>46414.0</td>\n",
              "      <td>0.318</td>\n",
              "      <td>NaN</td>\n",
              "      <td>NaN</td>\n",
              "      <td>NaN</td>\n",
              "      <td>NaN</td>\n",
              "      <td>NaN</td>\n",
              "      <td>tests performed</td>\n",
              "      <td>NaN</td>\n",
              "      <td>NaN</td>\n",
              "      <td>NaN</td>\n",
              "      <td>NaN</td>\n",
              "      <td>NaN</td>\n",
              "      <td>NaN</td>\n",
              "      <td>NaN</td>\n",
              "      <td>NaN</td>\n",
              "      <td>NaN</td>\n",
              "      <td>8.33</td>\n",
              "      <td>145934460.0</td>\n",
              "      <td>8.823</td>\n",
              "      <td>39.6</td>\n",
              "      <td>14.178</td>\n",
              "      <td>9.393</td>\n",
              "      <td>24765.954</td>\n",
              "      <td>0.1</td>\n",
              "      <td>431.297</td>\n",
              "      <td>6.18</td>\n",
              "      <td>23.4</td>\n",
              "      <td>58.3</td>\n",
              "      <td>NaN</td>\n",
              "      <td>8.05</td>\n",
              "      <td>72.58</td>\n",
              "      <td>0.824</td>\n",
              "      <td>1</td>\n",
              "    </tr>\n",
              "    <tr>\n",
              "      <th>52924</th>\n",
              "      <td>RUS</td>\n",
              "      <td>Europe</td>\n",
              "      <td>Russia</td>\n",
              "      <td>2020-03-05</td>\n",
              "      <td>4.0</td>\n",
              "      <td>1.0</td>\n",
              "      <td>0.286</td>\n",
              "      <td>NaN</td>\n",
              "      <td>NaN</td>\n",
              "      <td>0.0</td>\n",
              "      <td>0.027</td>\n",
              "      <td>0.007</td>\n",
              "      <td>0.002</td>\n",
              "      <td>NaN</td>\n",
              "      <td>NaN</td>\n",
              "      <td>0.0</td>\n",
              "      <td>NaN</td>\n",
              "      <td>NaN</td>\n",
              "      <td>NaN</td>\n",
              "      <td>NaN</td>\n",
              "      <td>NaN</td>\n",
              "      <td>NaN</td>\n",
              "      <td>NaN</td>\n",
              "      <td>NaN</td>\n",
              "      <td>NaN</td>\n",
              "      <td>4952.0</td>\n",
              "      <td>51366.0</td>\n",
              "      <td>0.352</td>\n",
              "      <td>0.034</td>\n",
              "      <td>NaN</td>\n",
              "      <td>NaN</td>\n",
              "      <td>NaN</td>\n",
              "      <td>NaN</td>\n",
              "      <td>tests performed</td>\n",
              "      <td>NaN</td>\n",
              "      <td>NaN</td>\n",
              "      <td>NaN</td>\n",
              "      <td>NaN</td>\n",
              "      <td>NaN</td>\n",
              "      <td>NaN</td>\n",
              "      <td>NaN</td>\n",
              "      <td>NaN</td>\n",
              "      <td>NaN</td>\n",
              "      <td>22.22</td>\n",
              "      <td>145934460.0</td>\n",
              "      <td>8.823</td>\n",
              "      <td>39.6</td>\n",
              "      <td>14.178</td>\n",
              "      <td>9.393</td>\n",
              "      <td>24765.954</td>\n",
              "      <td>0.1</td>\n",
              "      <td>431.297</td>\n",
              "      <td>6.18</td>\n",
              "      <td>23.4</td>\n",
              "      <td>58.3</td>\n",
              "      <td>NaN</td>\n",
              "      <td>8.05</td>\n",
              "      <td>72.58</td>\n",
              "      <td>0.824</td>\n",
              "      <td>2</td>\n",
              "    </tr>\n",
              "    <tr>\n",
              "      <th>52925</th>\n",
              "      <td>RUS</td>\n",
              "      <td>Europe</td>\n",
              "      <td>Russia</td>\n",
              "      <td>2020-03-06</td>\n",
              "      <td>13.0</td>\n",
              "      <td>9.0</td>\n",
              "      <td>1.571</td>\n",
              "      <td>NaN</td>\n",
              "      <td>NaN</td>\n",
              "      <td>0.0</td>\n",
              "      <td>0.089</td>\n",
              "      <td>0.062</td>\n",
              "      <td>0.011</td>\n",
              "      <td>NaN</td>\n",
              "      <td>NaN</td>\n",
              "      <td>0.0</td>\n",
              "      <td>NaN</td>\n",
              "      <td>NaN</td>\n",
              "      <td>NaN</td>\n",
              "      <td>NaN</td>\n",
              "      <td>NaN</td>\n",
              "      <td>NaN</td>\n",
              "      <td>NaN</td>\n",
              "      <td>NaN</td>\n",
              "      <td>NaN</td>\n",
              "      <td>4322.0</td>\n",
              "      <td>55688.0</td>\n",
              "      <td>0.382</td>\n",
              "      <td>0.030</td>\n",
              "      <td>NaN</td>\n",
              "      <td>NaN</td>\n",
              "      <td>NaN</td>\n",
              "      <td>NaN</td>\n",
              "      <td>tests performed</td>\n",
              "      <td>NaN</td>\n",
              "      <td>NaN</td>\n",
              "      <td>NaN</td>\n",
              "      <td>NaN</td>\n",
              "      <td>NaN</td>\n",
              "      <td>NaN</td>\n",
              "      <td>NaN</td>\n",
              "      <td>NaN</td>\n",
              "      <td>NaN</td>\n",
              "      <td>22.22</td>\n",
              "      <td>145934460.0</td>\n",
              "      <td>8.823</td>\n",
              "      <td>39.6</td>\n",
              "      <td>14.178</td>\n",
              "      <td>9.393</td>\n",
              "      <td>24765.954</td>\n",
              "      <td>0.1</td>\n",
              "      <td>431.297</td>\n",
              "      <td>6.18</td>\n",
              "      <td>23.4</td>\n",
              "      <td>58.3</td>\n",
              "      <td>NaN</td>\n",
              "      <td>8.05</td>\n",
              "      <td>72.58</td>\n",
              "      <td>0.824</td>\n",
              "      <td>3</td>\n",
              "    </tr>\n",
              "    <tr>\n",
              "      <th>52926</th>\n",
              "      <td>RUS</td>\n",
              "      <td>Europe</td>\n",
              "      <td>Russia</td>\n",
              "      <td>2020-03-07</td>\n",
              "      <td>13.0</td>\n",
              "      <td>1.0</td>\n",
              "      <td>1.571</td>\n",
              "      <td>NaN</td>\n",
              "      <td>NaN</td>\n",
              "      <td>0.0</td>\n",
              "      <td>0.089</td>\n",
              "      <td>0.000</td>\n",
              "      <td>0.011</td>\n",
              "      <td>NaN</td>\n",
              "      <td>NaN</td>\n",
              "      <td>0.0</td>\n",
              "      <td>NaN</td>\n",
              "      <td>NaN</td>\n",
              "      <td>NaN</td>\n",
              "      <td>NaN</td>\n",
              "      <td>NaN</td>\n",
              "      <td>NaN</td>\n",
              "      <td>NaN</td>\n",
              "      <td>NaN</td>\n",
              "      <td>NaN</td>\n",
              "      <td>4272.0</td>\n",
              "      <td>59960.0</td>\n",
              "      <td>0.411</td>\n",
              "      <td>0.029</td>\n",
              "      <td>NaN</td>\n",
              "      <td>NaN</td>\n",
              "      <td>NaN</td>\n",
              "      <td>NaN</td>\n",
              "      <td>tests performed</td>\n",
              "      <td>NaN</td>\n",
              "      <td>NaN</td>\n",
              "      <td>NaN</td>\n",
              "      <td>NaN</td>\n",
              "      <td>NaN</td>\n",
              "      <td>NaN</td>\n",
              "      <td>NaN</td>\n",
              "      <td>NaN</td>\n",
              "      <td>NaN</td>\n",
              "      <td>22.22</td>\n",
              "      <td>145934460.0</td>\n",
              "      <td>8.823</td>\n",
              "      <td>39.6</td>\n",
              "      <td>14.178</td>\n",
              "      <td>9.393</td>\n",
              "      <td>24765.954</td>\n",
              "      <td>0.1</td>\n",
              "      <td>431.297</td>\n",
              "      <td>6.18</td>\n",
              "      <td>23.4</td>\n",
              "      <td>58.3</td>\n",
              "      <td>NaN</td>\n",
              "      <td>8.05</td>\n",
              "      <td>72.58</td>\n",
              "      <td>0.824</td>\n",
              "      <td>4</td>\n",
              "    </tr>\n",
              "    <tr>\n",
              "      <th>52927</th>\n",
              "      <td>RUS</td>\n",
              "      <td>Europe</td>\n",
              "      <td>Russia</td>\n",
              "      <td>2020-03-08</td>\n",
              "      <td>17.0</td>\n",
              "      <td>4.0</td>\n",
              "      <td>2.143</td>\n",
              "      <td>NaN</td>\n",
              "      <td>NaN</td>\n",
              "      <td>0.0</td>\n",
              "      <td>0.116</td>\n",
              "      <td>0.027</td>\n",
              "      <td>0.015</td>\n",
              "      <td>NaN</td>\n",
              "      <td>NaN</td>\n",
              "      <td>0.0</td>\n",
              "      <td>NaN</td>\n",
              "      <td>NaN</td>\n",
              "      <td>NaN</td>\n",
              "      <td>NaN</td>\n",
              "      <td>NaN</td>\n",
              "      <td>NaN</td>\n",
              "      <td>NaN</td>\n",
              "      <td>NaN</td>\n",
              "      <td>NaN</td>\n",
              "      <td>3231.0</td>\n",
              "      <td>63191.0</td>\n",
              "      <td>0.433</td>\n",
              "      <td>0.022</td>\n",
              "      <td>NaN</td>\n",
              "      <td>NaN</td>\n",
              "      <td>NaN</td>\n",
              "      <td>NaN</td>\n",
              "      <td>tests performed</td>\n",
              "      <td>NaN</td>\n",
              "      <td>NaN</td>\n",
              "      <td>NaN</td>\n",
              "      <td>NaN</td>\n",
              "      <td>NaN</td>\n",
              "      <td>NaN</td>\n",
              "      <td>NaN</td>\n",
              "      <td>NaN</td>\n",
              "      <td>NaN</td>\n",
              "      <td>22.22</td>\n",
              "      <td>145934460.0</td>\n",
              "      <td>8.823</td>\n",
              "      <td>39.6</td>\n",
              "      <td>14.178</td>\n",
              "      <td>9.393</td>\n",
              "      <td>24765.954</td>\n",
              "      <td>0.1</td>\n",
              "      <td>431.297</td>\n",
              "      <td>6.18</td>\n",
              "      <td>23.4</td>\n",
              "      <td>58.3</td>\n",
              "      <td>NaN</td>\n",
              "      <td>8.05</td>\n",
              "      <td>72.58</td>\n",
              "      <td>0.824</td>\n",
              "      <td>5</td>\n",
              "    </tr>\n",
              "  </tbody>\n",
              "</table>\n",
              "</div>"
            ],
            "text/plain": [
              "      iso_code continent location  ... life_expectancy  human_development_index  Id\n",
              "52923      RUS    Europe   Russia  ...           72.58                    0.824   1\n",
              "52924      RUS    Europe   Russia  ...           72.58                    0.824   2\n",
              "52925      RUS    Europe   Russia  ...           72.58                    0.824   3\n",
              "52926      RUS    Europe   Russia  ...           72.58                    0.824   4\n",
              "52927      RUS    Europe   Russia  ...           72.58                    0.824   5\n",
              "\n",
              "[5 rows x 60 columns]"
            ]
          },
          "metadata": {
            "tags": []
          },
          "execution_count": 7
        }
      ]
    },
    {
      "cell_type": "code",
      "metadata": {
        "id": "zzC9sVdVIGrz"
      },
      "source": [
        "row_num = 50\r\n",
        "train_data, test_data = covid_data[:row_num], covid_data[row_num:]"
      ],
      "execution_count": 8,
      "outputs": []
    },
    {
      "cell_type": "code",
      "metadata": {
        "colab": {
          "base_uri": "https://localhost:8080/",
          "height": 295
        },
        "id": "M89i2DmuIT0N",
        "outputId": "d307c377-3117-4960-d431-9bc3abe57a74"
      },
      "source": [
        "plt.scatter(train_data['Id'], train_data['new_cases'], s = 1)  \r\n",
        "\r\n",
        "plt.xlabel('day')\r\n",
        "plt.ylabel('new_cases')\r\n",
        "plt.title('New  cases per day')\r\n",
        "\r\n",
        "plt.show()"
      ],
      "execution_count": 9,
      "outputs": [
        {
          "output_type": "display_data",
          "data": {
            "image/png": "[encoded data removed]",
            "text/plain": [
              "<Figure size 432x288 with 1 Axes>"
            ]
          },
          "metadata": {
            "tags": [],
            "needs_background": "light"
          }
        }
      ]
    },
    {
      "cell_type": "markdown",
      "metadata": {
        "id": "Ex_8LEqmVRzA"
      },
      "source": [
        "###a"
      ]
    },
    {
      "cell_type": "code",
      "metadata": {
        "colab": {
          "base_uri": "https://localhost:8080/",
          "height": 295
        },
        "id": "pNgkLKENQ1wH",
        "outputId": "dcc35fca-39f2-4c52-b083-cf58549c9feb"
      },
      "source": [
        "X_train, y_train = np.array(train_data['Id']).reshape(row_num, 1), np.array(train_data['new_cases']).reshape(row_num, 1)\r\n",
        "\r\n",
        "def get_dispertion(X, y, k, b):\r\n",
        "\r\n",
        "    count = len(X)\r\n",
        "    y = np.log(y_train)\r\n",
        "\r\n",
        "    A = y - X * k -np.ones((count, 1)) * b\r\n",
        "    dispertion = (A.T @ A) / (count - 1) \r\n",
        "\r\n",
        "    return dispertion[0][0]\r\n",
        "\r\n",
        "def get_trained_model(X_train, y_train):\r\n",
        "    X = X_train\r\n",
        "    y = np.log(y_train)\r\n",
        "\r\n",
        "    linear_regression = LinearRegression(normalize=True)\r\n",
        "    linear_regression.fit(X, y)\r\n",
        "    \r\n",
        "    return linear_regression \r\n",
        "\r\n",
        "model = get_trained_model(X_train, y_train)    \r\n",
        "result = np.exp(model.predict(X_train))\r\n",
        "\r\n",
        "plt.scatter(train_data['Id'], train_data['new_cases'], s = 1, label='positives')\r\n",
        "plt.scatter(train_data['Id'], result, s = 1, label='positives')   \r\n",
        "\r\n",
        "plt.xlabel('day num')\r\n",
        "plt.ylabel('new_cases')\r\n",
        "plt.title('title')\r\n",
        "\r\n",
        "plt.show()\r\n"
      ],
      "execution_count": 10,
      "outputs": [
        {
          "output_type": "display_data",
          "data": {
            "image/png": "[encoded data removed]",
            "text/plain": [
              "<Figure size 432x288 with 1 Axes>"
            ]
          },
          "metadata": {
            "tags": [],
            "needs_background": "light"
          }
        }
      ]
    },
    {
      "cell_type": "code",
      "metadata": {
        "colab": {
          "base_uri": "https://localhost:8080/"
        },
        "id": "rOpwuaxMOVvc",
        "outputId": "b3e68229-6448-4fbf-8525-4c652bbf2e52"
      },
      "source": [
        "k = model.coef_[0][0]\r\n",
        "b = model.intercept_[0]\r\n",
        "dispertion = get_dispertion(X_train, y_train, k, b)\r\n",
        "\r\n",
        "print(f'k = {k}')\r\n",
        "print(f'b = {b}')\r\n",
        "print(f'dispertion = {dispertion}')\r\n"
      ],
      "execution_count": 11,
      "outputs": [
        {
          "output_type": "stream",
          "text": [
            "k = 0.18269413690508055\n",
            "b = 0.3893490366457675\n",
            "dispertion = 0.3807078546709521\n"
          ],
          "name": "stdout"
        }
      ]
    }
  ]
}